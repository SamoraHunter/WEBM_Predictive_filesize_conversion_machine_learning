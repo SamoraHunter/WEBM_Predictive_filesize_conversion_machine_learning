{
 "cells": [
  {
   "cell_type": "code",
   "execution_count": null,
   "id": "27f6dc9b",
   "metadata": {},
   "outputs": [],
   "source": [
    "import math\n",
    "import os\n",
    "import textwrap\n",
    "\n",
    "import keras\n",
    "import numpy as np\n",
    "import pandas as pd\n",
    "# import pandas_profiling\n",
    "import statsmodels.api as sm\n",
    "import tensorflow as tf\n",
    "import tensorflow_addons as tfa\n",
    "import xgboost as xgb\n",
    "from keras.constraints import maxnorm\n",
    "from keras.layers import Dense\n",
    "from keras.layers import Dropout\n",
    "from keras.models import Sequential\n",
    "from keras.optimizers import Adam\n",
    "from keras.wrappers.scikit_learn import KerasRegressor\n",
    "from keras.wrappers.scikit_learn import KerasRegressor\n",
    "from matplotlib import pyplot as plt\n",
    "from numpy import absolute, mean, std\n",
    "from sklearn import linear_model\n",
    "from sklearn.ensemble import (\n",
    "    AdaBoostRegressor,\n",
    "    BaggingRegressor,\n",
    "    ExtraTreesRegressor,\n",
    "    GradientBoostingRegressor,\n",
    "    RandomForestRegressor,\n",
    ")\n",
    "from sklearn.linear_model import LinearRegression, Ridge\n",
    "from sklearn.model_selection import (\n",
    "    GridSearchCV,\n",
    "    RepeatedKFold,\n",
    "    cross_validate,\n",
    "    train_test_split,\n",
    ")\n",
    "from sklearn.model_selection import ParameterGrid\n",
    "from sklearn.neighbors import KNeighborsRegressor\n",
    "from sklearn.neural_network import MLPRegressor\n",
    "from sklearn.preprocessing import StandardScaler\n",
    "from sklearn.svm import SVR, LinearSVR, NuSVR\n",
    "from sklearn.tree import DecisionTreeRegressor\n",
    "# from COGStats import batchQQCheck\n",
    "from statsmodels.regression.quantile_regression import QuantReg\n",
    "\n",
    "# from COGStats import *"
   ]
  },
  {
   "cell_type": "code",
   "execution_count": null,
   "id": "edda480e",
   "metadata": {},
   "outputs": [],
   "source": [
    "%matplotlib inline"
   ]
  },
  {
   "cell_type": "code",
   "execution_count": null,
   "id": "2f2e5e90",
   "metadata": {},
   "outputs": [],
   "source": [
    "plot_path = \"ML_plots_livewebmdata//\""
   ]
  },
  {
   "cell_type": "code",
   "execution_count": null,
   "id": "17c80100",
   "metadata": {},
   "outputs": [],
   "source": [
    "isExist = os.path.exists(plot_path)\n",
    "\n",
    "if not isExist:\n",
    "\n",
    "    # Create a new directory because it does not exist\n",
    "    os.makedirs(plot_path)\n",
    "\n",
    "\n",
    "isExist = os.path.exists(plot_path + \"_scaled//\")\n",
    "\n",
    "if not isExist:\n",
    "\n",
    "    # Create a new directory because it does not exist\n",
    "    os.makedirs(plot_path + \"_scaled//\")"
   ]
  },
  {
   "cell_type": "code",
   "execution_count": null,
   "id": "f56bd7f7",
   "metadata": {},
   "outputs": [],
   "source": [
    "f = open(\"livewebmdata.txt\", \"r\", encoding=\"utf-8\")\n",
    "\n",
    "#Logs of prior conversion in the form:\n",
    "    #File_name: raw_video_file.avi\n",
    "    #initial_bitrate: 1897140.707401512\n",
    "    #orig_bitrate: 170410473.0\n",
    "    #avcCodec: 0.0\n",
    "    #mpjgCodec: 1.0\n",
    "    #height: 2130.0\n",
    "    #width: 3840.0\n",
    "    #duration: 6.847458\n",
    "    #frames: 404.0\n",
    "    #origSize: 145859820.0\n",
    "\n",
    "\n",
    "lines = f.readlines()\n",
    "\n",
    "print(len(lines))\n",
    "f.close()\n",
    "\n",
    "duration = []\n",
    "frames = []\n",
    "original_filesize = []\n",
    "output_filesize = []\n",
    "initial_bitrate = []\n",
    "orig_bitrate = []\n",
    "height = []\n",
    "width = []\n",
    "avc_Codec = []\n",
    "mpjg_Codec = []\n",
    "\n",
    "\n",
    "for line in lines:\n",
    "    if (\n",
    "        \"size:\" in line\n",
    "        or \"orig_bitrate\" in line\n",
    "        or \"initial_bitrate\" in line\n",
    "        or \"frames:\" in line\n",
    "        or \"origSize:\" in line\n",
    "        or \"orig_bitrate:\" in line\n",
    "        or \"duration:\" in line\n",
    "        or \"avcCodec:\" in line\n",
    "        or \"mpjgCodec:\" in line\n",
    "        or \"height:\" in line\n",
    "        or \"width:\" in line\n",
    "        or \"origSize:\" in line\n",
    "        or \"output file size:\" in line\n",
    "    ):\n",
    "\n",
    "        # print(line.split()[-1])\n",
    "        if \"initial_bitrate:\" in line:\n",
    "            initial_bitrate.append(float(line.split()[-1]))\n",
    "\n",
    "        if \"orig_bitrate:\" in line:\n",
    "            orig_bitrate.append(float(line.split()[-1]))\n",
    "\n",
    "        if \"avcCodec:\" in line:\n",
    "            avc_Codec.append(float(line.split()[-1]))\n",
    "\n",
    "        if \"mpjgCodec:\" in line:\n",
    "            mpjg_Codec.append(float(line.split()[-1]))\n",
    "\n",
    "        if \"height:\" in line:\n",
    "            height.append(float(line.split()[-1]))\n",
    "\n",
    "        if \"width:\" in line:\n",
    "            width.append(float(line.split()[-1]))\n",
    "\n",
    "        if \"duration:\" in line:\n",
    "            duration.append(float(line.split()[-1]))\n",
    "\n",
    "        if \"frames:\" in line:\n",
    "            frames.append(float(line.split()[-1]))\n",
    "\n",
    "        if \"origSize:\" in line:\n",
    "            original_filesize.append(float(line.split()[-1]))\n",
    "\n",
    "        if \"output file size:\" in line:\n",
    "            output_filesize.append(float(line.split()[-1]))\n",
    "\n",
    "\n",
    "df = pd.DataFrame(\n",
    "    columns=[\n",
    "        \"initial_bitrate\",\n",
    "        \"orig_bitrate\",\n",
    "        \"avc_Codec\",\n",
    "        \"mpjg_Codec\",\n",
    "        \"height\",\n",
    "        \"width\",\n",
    "        \"duration\",\n",
    "        \"frames\",\n",
    "        \"original_filesize\",\n",
    "        \"output_filesize\",\n",
    "    ]\n",
    ")\n",
    "\n",
    "df[\"duration\"] = duration\n",
    "df[\"frames\"] = frames\n",
    "df[\"original_filesize\"] = original_filesize\n",
    "df[\"orig_bitrate\"] = orig_bitrate\n",
    "df[\"initial_bitrate\"] = initial_bitrate\n",
    "df[\"height\"] = height\n",
    "df[\"width\"] = width\n",
    "df[\"avc_Codec\"] = avc_Codec\n",
    "df[\"mpjg_Codec\"] = mpjg_Codec\n",
    "df[\"output_filesize\"] = output_filesize\n",
    "\n",
    "df.describe()\n",
    "\n",
    "\n",
    "X = df[\n",
    "    [\n",
    "        \"initial_bitrate\",\n",
    "        \"orig_bitrate\",\n",
    "        #\"avc_Codec\",\n",
    "        #\"mpjg_Codec\",\n",
    "        #\"height\",\n",
    "        #\"width\",\n",
    "        \"duration\",\n",
    "        #\"frames\",\n",
    "        \"original_filesize\",\n",
    "    ]\n",
    "].copy()\n",
    "y = df[\"output_filesize\"].copy()\n",
    "\n",
    "## fit a OLS model with intercept on TV and Radio\n",
    "X = sm.add_constant(X, has_constant=\"add\")\n",
    "est = sm.OLS(y, X).fit()"
   ]
  },
  {
   "cell_type": "code",
   "execution_count": null,
   "id": "beaf4de5",
   "metadata": {},
   "outputs": [],
   "source": [
    "# df = df.sample(2500)"
   ]
  },
  {
   "cell_type": "code",
   "execution_count": null,
   "id": "2808e421",
   "metadata": {},
   "outputs": [],
   "source": [
    "df.columns"
   ]
  },
  {
   "cell_type": "code",
   "execution_count": null,
   "id": "f4806bd7",
   "metadata": {},
   "outputs": [],
   "source": [
    "# proile = pandas_profiling.ProfileReport(df)"
   ]
  },
  {
   "cell_type": "code",
   "execution_count": null,
   "id": "c8df2767",
   "metadata": {},
   "outputs": [],
   "source": [
    "# profile.to_file(output_file='Pandas Profiling Report — all_samples4 .html')"
   ]
  },
  {
   "cell_type": "code",
   "execution_count": null,
   "id": "925fca6b",
   "metadata": {},
   "outputs": [],
   "source": [
    "df.describe()"
   ]
  },
  {
   "cell_type": "code",
   "execution_count": null,
   "id": "f5fd471c",
   "metadata": {},
   "outputs": [],
   "source": [
    "df.describe()"
   ]
  },
  {
   "cell_type": "code",
   "execution_count": null,
   "id": "7c3dfd91",
   "metadata": {},
   "outputs": [],
   "source": [
    "df.columns"
   ]
  },
  {
   "cell_type": "code",
   "execution_count": null,
   "id": "973b2379",
   "metadata": {},
   "outputs": [],
   "source": [
    "df.head()"
   ]
  },
  {
   "cell_type": "code",
   "execution_count": null,
   "id": "1a0c331d",
   "metadata": {},
   "outputs": [],
   "source": [
    "scale = False\n",
    "col_names = df.columns\n",
    "if scale == True:\n",
    "    scaler = StandardScaler()\n",
    "    # transform data\n",
    "    df = scaler.fit_transform(df)\n",
    "    df = pd.DataFrame(df, columns=col_names)\n",
    "    plot_path = plot_path + \"_scaled//\""
   ]
  },
  {
   "cell_type": "code",
   "execution_count": null,
   "id": "1ca3cb0b",
   "metadata": {},
   "outputs": [],
   "source": [
    "df.head()"
   ]
  },
  {
   "cell_type": "code",
   "execution_count": null,
   "id": "eebb22e5",
   "metadata": {},
   "outputs": [],
   "source": [
    "for col in df.columns:\n",
    "    try:\n",
    "        df[col].plot(kind=\"density\")\n",
    "\n",
    "    except Exception as e:\n",
    "        print(col)\n",
    "        print(e)"
   ]
  },
  {
   "cell_type": "code",
   "execution_count": null,
   "id": "433dc969",
   "metadata": {},
   "outputs": [],
   "source": [
    "X = df[\n",
    "    [\n",
    "        \"initial_bitrate\",\n",
    "        \"orig_bitrate\",\n",
    "        #        \"height\",\n",
    "        #        \"width\",\n",
    "        \"duration\",\n",
    "        #        \"frames\",\n",
    "        \"original_filesize\",\n",
    "    ]\n",
    "]\n",
    "y = df[\"output_filesize\"]"
   ]
  },
  {
   "cell_type": "code",
   "execution_count": null,
   "id": "383ffc89",
   "metadata": {},
   "outputs": [],
   "source": []
  },
  {
   "cell_type": "code",
   "execution_count": null,
   "id": "a24428e1",
   "metadata": {},
   "outputs": [],
   "source": [
    "X_train, x_test, y_train, y_test = train_test_split(\n",
    "    X, y, test_size=0.2, random_state=42\n",
    ")"
   ]
  },
  {
   "cell_type": "markdown",
   "id": "944e4bf3",
   "metadata": {},
   "source": [
    "# Common args"
   ]
  },
  {
   "cell_type": "code",
   "execution_count": null,
   "id": "2d4ed791",
   "metadata": {},
   "outputs": [],
   "source": [
    "cv = RepeatedKFold(n_splits=10, n_repeats=3, random_state=1)"
   ]
  },
  {
   "cell_type": "code",
   "execution_count": null,
   "id": "95f93317",
   "metadata": {},
   "outputs": [],
   "source": [
    "metric_list = [\"neg_mean_absolute_error\", \"r2\"]"
   ]
  },
  {
   "cell_type": "code",
   "execution_count": null,
   "id": "1689d3ab",
   "metadata": {},
   "outputs": [],
   "source": [
    "scores_tuple_list = []"
   ]
  },
  {
   "cell_type": "code",
   "execution_count": null,
   "id": "50cce25c",
   "metadata": {},
   "outputs": [],
   "source": [
    "def grid_search_crossvalidate(\n",
    "    algorithm_implementation, parameter_space, method_name, X, y\n",
    "):\n",
    "    global scores_tuple_list\n",
    "\n",
    "    print(method_name)\n",
    "\n",
    "    current_algorithm = algorithm_implementation\n",
    "\n",
    "    parameters = parameter_space\n",
    "\n",
    "    grid = GridSearchCV(\n",
    "        current_algorithm, parameters, verbose=3, cv=[(slice(None), slice(None))]\n",
    "    )  # Negate CV in param search for speed\n",
    "\n",
    "    pg = ParameterGrid(parameter_space)\n",
    "    pg = len(pg)\n",
    "    print(pg)\n",
    "    if pg > 100000:\n",
    "        print(\"grid too large\", str(pg))\n",
    "        raise Exception(\"grid too large\", str(pg))\n",
    "\n",
    "    grid.fit(X, y)\n",
    "    print(grid)\n",
    "\n",
    "    if type(grid.estimator) is not keras.wrappers.scikit_learn.KerasRegressor:\n",
    "\n",
    "        current_algorithm = grid.best_estimator_.fit(X, y)\n",
    "    else:\n",
    "        current_algorithm = KerasRegressor(\n",
    "            build_fn=create_model,\n",
    "            verbose=0,\n",
    "            layers=grid.best_params_[\"layers\"],\n",
    "            width=grid.best_params_[\"width\"],\n",
    "            learning_rate=grid.best_params_[\"learning_rate\"],\n",
    "        )\n",
    "\n",
    "    # current_algorithm.score(X, y)\n",
    "\n",
    "    scores = cross_validate(\n",
    "        current_algorithm,\n",
    "        X,\n",
    "        y,\n",
    "        scoring=metric_list,\n",
    "        cv=cv,  # Full CV on final best model\n",
    "        n_jobs=1,\n",
    "        verbose=0,\n",
    "    )\n",
    "    current_algorithm_scores = scores\n",
    "    scores_tuple_list.append((method_name, current_algorithm_scores, grid))\n",
    "\n",
    "    print(\n",
    "        \"Mean MAE: %.3f (%.3f)\"\n",
    "        % (\n",
    "            absolute(mean(scores[\"test_neg_mean_absolute_error\"])),\n",
    "            std(scores[\"test_neg_mean_absolute_error\"]),\n",
    "        )\n",
    "    )\n",
    "    print(\n",
    "        \"Mean R2: %.3f (%.3f)\"\n",
    "        % (absolute(mean(scores[\"test_r2\"])), std(scores[\"test_r2\"]))\n",
    "    )\n",
    "    print(\n",
    "        \"Mean fit time: %.3f (%.3f)\"\n",
    "        % (absolute(mean(scores[\"fit_time\"])), std(scores[\"fit_time\"]))\n",
    "    )\n",
    "    print(\n",
    "        \"Mean score time: %.3f (%.3f)\"\n",
    "        % (absolute(mean(scores[\"score_time\"])), std(scores[\"score_time\"]))\n",
    "    )\n",
    "    print(\n",
    "        \"---------------------------------------------------------------------------------------------------\"\n",
    "    )\n",
    "\n",
    "\n",
    "    y_predict = grid.best_estimator_.predict(x_test)\n",
    "\n",
    "    plt.figure(figsize=(10, 10))\n",
    "    plt.tight_layout()\n",
    "    fig, ax = plt.subplots()\n",
    "    ax.scatter(y_test, y_predict, c=\"crimson\")\n",
    "    # plt.yscale('log')\n",
    "    # plt.xscale('log')\n",
    "\n",
    "    p1 = max(max(y_predict), max(y_test))\n",
    "    p2 = min(min(y_predict), min(y_test))\n",
    "    plt.plot([p1, p2], [p1, p2], \"b-\")\n",
    "    ax.set_xlabel(\"True Values\", fontsize=15)\n",
    "    ax.set_ylabel(\"Predictions\", fontsize=15)\n",
    "    plt.axis(\"equal\")\n",
    "    # ax.set_title(str(current_algorithm)+ 'R2: ' + str(round(r2_score(y_test, y_predict),3)) +'\\n' + str(current_algorithm.get_params()))\n",
    "    # ax.set_title(str(current_algorithm)+ ' R2: ' + str(round(absolute(mean(scores[\"test_r2\"])),3)) +'\\n' + str(current_algorithm.get_params()))\n",
    "\n",
    "    try:\n",
    "        print(\n",
    "            textwrap.fill(\n",
    "                str(current_algorithm)\n",
    "                + str(pg)\n",
    "                + \"_splits.\"\n",
    "                + \" R2: \"\n",
    "                + str(round(absolute(mean(scores[\"test_r2\"])), 3))\n",
    "                + str(current_algorithm.get_params()),\n",
    "                60,\n",
    "            )\n",
    "        )\n",
    "    except Exception as e:\n",
    "        print(e, \"failed to plot\")\n",
    "\n",
    "    ax.set_title(\n",
    "        textwrap.fill(\n",
    "            str(method_name)\n",
    "            + str(pg)\n",
    "            + \"_splits.\"\n",
    "            + \" R2: \"\n",
    "            + str(round(absolute(mean(scores[\"test_r2\"])), 3))\n",
    "            + str(current_algorithm.get_params()),\n",
    "            60,\n",
    "        )\n",
    "    )\n",
    "    # ax.annotate(\"r-squared = {:.3f}\".format(r2_score(y_test, y_predict)), (0, 1))\n",
    "    # plt.annotate(\"r-squared = {:.3f}\".format(r2_score(y_test, y_predict)), (0, 1))\n",
    "    # plt.show()\n",
    "    plt.savefig(\n",
    "        plot_path + str(method_name).split(\"(\")[0] + \"_reg.png\",\n",
    "        edgecolor=\"black\",\n",
    "        dpi=150,\n",
    "        transparent=True,\n",
    "        bbox_inches=\"tight\",\n",
    "    )\n",
    "\n",
    "    return (method_name, current_algorithm_scores)"
   ]
  },
  {
   "cell_type": "markdown",
   "id": "e0d23f51",
   "metadata": {},
   "source": [
    "class_name = kerasRegressor_regression\n",
    "\n",
    "grid_search_crossvalidate(class_name.algorithm_implementation,\n",
    "                         class_name.parameter_space,\n",
    "                         class_name.method_name,\n",
    "                         class_name.X_data,\n",
    "                         class_name.y_data);"
   ]
  },
  {
   "cell_type": "code",
   "execution_count": null,
   "id": "d06540a7",
   "metadata": {},
   "outputs": [],
   "source": []
  },
  {
   "cell_type": "code",
   "execution_count": null,
   "id": "58895561",
   "metadata": {},
   "outputs": [],
   "source": [
    "# class_name = multiple_regression\n",
    "\n",
    "# grid_search_crossvalidate(class_name.algorithm_implementation,\n",
    "#                          class_name.parameter_space,\n",
    "#                          class_name.method_name,\n",
    "#                          class_name.X_data,\n",
    "#                          class_name.y_data);"
   ]
  },
  {
   "cell_type": "code",
   "execution_count": null,
   "id": "915a26f1",
   "metadata": {},
   "outputs": [],
   "source": [
    "log_small = np.logspace(-1, -5, 3)\n",
    "print(log_small)\n",
    "bool_param = [True, False]\n",
    "print(bool_param)\n",
    "log_large = np.logspace(0, 2, 3).astype(int)\n",
    "print(log_large)\n",
    "log_large_long = np.floor(np.logspace(0, 2.5, 5)).astype(int)\n",
    "print(log_large_long)\n",
    "log_med_long = np.floor(np.logspace(0, 1.5, 5)).astype(int)\n",
    "print(log_med_long)\n",
    "log_med = np.floor(np.logspace(0, 1.5, 3)).astype(int)\n",
    "print(log_med)\n",
    "nstep = 3\n",
    "log_zero_one = np.logspace(0.0, 1.0, nstep) / 10\n",
    "print(log_zero_one)\n",
    "lin_zero_one = np.linspace(0.0, 1.0, nstep) / 10\n",
    "print(lin_zero_one)"
   ]
  },
  {
   "cell_type": "code",
   "execution_count": null,
   "id": "decc292c",
   "metadata": {},
   "outputs": [],
   "source": [
    "class multiple_regression:\n",
    "    \"multiple_regression\"\n",
    "    algorithm_implementation = LinearRegression()\n",
    "    parameter_space = {}  # {'fit_intercept':[False]}\n",
    "    method_name = \"multiple_regression\"\n",
    "    X_data = X\n",
    "    y_data = y\n",
    "    parameter_space = {}"
   ]
  },
  {
   "cell_type": "code",
   "execution_count": null,
   "id": "1d457c3a",
   "metadata": {},
   "outputs": [],
   "source": [
    "class ridge_regression:\n",
    "    \"Ridge\"\n",
    "    algorithm_implementation = Ridge()\n",
    "\n",
    "    method_name = \"Ridge\"\n",
    "    X_data = X\n",
    "    y_data = y\n",
    "    parameter_space = {\n",
    "        \"alpha\": log_small,\n",
    "        \"copy_X\": [True],\n",
    "        \"max_iter\": log_large,\n",
    "        \"tol\": log_small,\n",
    "        \"solver\": [\n",
    "            \"auto\",\n",
    "            \"svd\",\n",
    "            \"cholesky\",\n",
    "            \"lsqr\",\n",
    "            \"sparse_cg\",\n",
    "            \"sag\",\n",
    "            \"saga\",\n",
    "            \"lbfgs\",\n",
    "        ],\n",
    "        \"positive\": bool_param,\n",
    "        \"random_state\": bool_param,\n",
    "    }"
   ]
  },
  {
   "cell_type": "code",
   "execution_count": null,
   "id": "5debd2d0",
   "metadata": {},
   "outputs": [],
   "source": [
    "class lasso_regression:\n",
    "    \"Lasso\"\n",
    "    algorithm_implementation = linear_model.Lasso()\n",
    "    method_name = \"Lasso\"\n",
    "    X_data = X\n",
    "    y_data = y\n",
    "    parameter_space = {\n",
    "        \"alpha\": log_small,\n",
    "        \"fit_intercept\": [True],\n",
    "        \"copy_X\": [True],\n",
    "        \"max_iter\": log_large,\n",
    "        \"tol\": log_small,\n",
    "        \"positive\": bool_param,\n",
    "        \"selection\": [\"cyclic\", \"random\"],\n",
    "    }"
   ]
  },
  {
   "cell_type": "code",
   "execution_count": null,
   "id": "279b7fbf",
   "metadata": {},
   "outputs": [],
   "source": [
    "class linearSVR_regression:\n",
    "    \"LinearSVR\"\n",
    "    algorithm_implementation = LinearSVR()\n",
    "    method_name = \"LinearSVR\"\n",
    "    X_data = X\n",
    "    y_data = y\n",
    "    parameter_space = {\n",
    "        \"C\": log_small,\n",
    "        \"dual\": [True],\n",
    "        \"epsilon\": log_small,\n",
    "        \"fit_intercept\": [True],\n",
    "        #'intercept_scaling': 1.0,\n",
    "        \"loss\": [\"epsilon_insensitive\", \"squared_epsilon_insensitive\"],\n",
    "        \"max_iter\": [1000],\n",
    "        \"random_state\": [None],\n",
    "        \"tol\": log_small,\n",
    "        \"verbose\": [0],\n",
    "    }"
   ]
  },
  {
   "cell_type": "code",
   "execution_count": null,
   "id": "bad3fb22",
   "metadata": {},
   "outputs": [],
   "source": [
    "class baggingregressor_regression:\n",
    "    \"BaggingRegressor\"\n",
    "    algorithm_implementation = BaggingRegressor()\n",
    "    method_name = \"BaggingRegressor\"\n",
    "    X_data = X\n",
    "    y_data = y\n",
    "    parameter_space = {\n",
    "        \"n_estimators\": log_large_long,\n",
    "        \"max_samples\": log_large_long,\n",
    "        \"max_features\": log_large_long,\n",
    "        \"bootstrap\": bool_param,\n",
    "        \"bootstrap_features\": bool_param,\n",
    "        \"oob_score\": bool_param,\n",
    "    }"
   ]
  },
  {
   "cell_type": "code",
   "execution_count": null,
   "id": "713b22ff",
   "metadata": {},
   "outputs": [],
   "source": [
    "class kneighborsregressor_regression:\n",
    "    \"KNeighborsRegressor\"\n",
    "    algorithm_implementation = KNeighborsRegressor()\n",
    "    method_name = \"KNeighborsRegressor\"\n",
    "    X_data = X\n",
    "    y_data = y\n",
    "    parameter_space = {\n",
    "        \"algorithm\": [\"auto\", \"ball_tree\", \"kd_tree\", \"brute\"],\n",
    "        \"leaf_size\": log_large_long,\n",
    "        \"metric\": [\"minkowski\"],\n",
    "        \"metric_params\": [None],\n",
    "        \"n_jobs\": [None],\n",
    "        \"n_neighbors\": log_med_long,\n",
    "        \"p\": [2],\n",
    "        \"weights\": [\"uniform\", \"distance\"],\n",
    "    }"
   ]
  },
  {
   "cell_type": "code",
   "execution_count": null,
   "id": "460bd3ff",
   "metadata": {},
   "outputs": [],
   "source": [
    "class randomforestregressor_regression:\n",
    "    \"RandomForestRegressor\"\n",
    "    algorithm_implementation = RandomForestRegressor()\n",
    "    method_name = \"RandomForestRegressor\"\n",
    "    X_data = X\n",
    "    y_data = y\n",
    "    parameter_space = {\n",
    "        \"bootstrap\": bool_param,\n",
    "        \"ccp_alpha\": log_small,\n",
    "        \"criterion\": [\"squared_error\", \"absolute_error\", \"poisson\"],\n",
    "        \"max_depth\": log_large_long,\n",
    "        \"max_features\": [\"auto\", \"sqrt\", \"log2\", None],\n",
    "        #'max_leaf_nodes': log_large_long,\n",
    "        \"max_samples\": log_large_long,\n",
    "        #'min_impurity_decrease': log_small,\n",
    "        #'min_samples_leaf': log_med,\n",
    "        #'min_samples_split': log_med,\n",
    "        #'min_weight_fraction_leaf': log_small,\n",
    "        \"n_estimators\": log_large_long,\n",
    "        \"n_jobs\": [None],\n",
    "        \"oob_score\": bool_param,\n",
    "        #'random_state': bool_param,\n",
    "        \"verbose\": [0],\n",
    "        #'warm_start': bool_param}\n",
    "    }"
   ]
  },
  {
   "cell_type": "code",
   "execution_count": null,
   "id": "bf4e8c6c",
   "metadata": {},
   "outputs": [],
   "source": [
    "class gradientboostingregressor_regression:\n",
    "    \"GradientBoostingRegressor\"\n",
    "    algorithm_implementation = GradientBoostingRegressor()\n",
    "    method_name = \"GradientBoostingRegressor\"\n",
    "    X_data = X\n",
    "    y_data = y\n",
    "    parameter_space = {\n",
    "        \"alpha\": log_small,\n",
    "        \"ccp_alpha\": log_small,\n",
    "        \"criterion\": [\"friedman_mse\"],\n",
    "        \"init\": [None],\n",
    "        \"learning_rate\": log_small,\n",
    "        \"loss\": [\"squared_error\", \"huber\"],\n",
    "        #'max_depth': log_med,\n",
    "        \"max_features\": [\"auto\", \"sqrt\", \"log2\", None],\n",
    "        #'max_leaf_nodes': [None],\n",
    "        #'min_impurity_decrease': log_small,\n",
    "        #'min_samples_leaf':log_med,\n",
    "        #'min_samples_split': log_med,\n",
    "        #'min_weight_fraction_leaf': log_small,\n",
    "        \"n_estimators\": log_large_long,\n",
    "        \"n_iter_no_change\": [None],\n",
    "        \"random_state\": [None],\n",
    "        #'subsample': log_small,\n",
    "        \"tol\": log_small,\n",
    "        \"validation_fraction\": [0.1],\n",
    "        \"verbose\": [0],\n",
    "        #'warm_start': bool_param\n",
    "    }"
   ]
  },
  {
   "cell_type": "code",
   "execution_count": null,
   "id": "89d497c3",
   "metadata": {},
   "outputs": [],
   "source": [
    "class decisiontreeregressor_regression:\n",
    "    \"DecisionTreeRegressor\"\n",
    "    algorithm_implementation = DecisionTreeRegressor()\n",
    "    method_name = \"DecisionTreeRegressor\"\n",
    "    X_data = X\n",
    "    y_data = y\n",
    "    parameter_space = {\n",
    "        \"ccp_alpha\": log_small,\n",
    "        \"criterion\": [\"squared_error\", \"friedman_mse\", \"poisson\"],\n",
    "        \"max_depth\": log_large_long,\n",
    "        \"max_features\": log_med,\n",
    "        \"max_leaf_nodes\": log_med,\n",
    "        #'min_impurity_decrease': log_small,\n",
    "        #'min_samples_leaf': log_med,\n",
    "        #'min_samples_split': log_med,\n",
    "        #'min_weight_fraction_leaf': log_small,\n",
    "        \"random_state\": [None],\n",
    "        \"splitter\": [\"best\", \"random\"],\n",
    "    }"
   ]
  },
  {
   "cell_type": "code",
   "execution_count": null,
   "id": "751b7795",
   "metadata": {},
   "outputs": [],
   "source": [
    "class SVR_regression:\n",
    "    \"SVR\"\n",
    "    algorithm_implementation = SVR()\n",
    "    method_name = \"SVR\"\n",
    "    X_data = X\n",
    "    y_data = y\n",
    "    parameter_space = {\n",
    "        \"C\": lin_zero_one,\n",
    "        \"cache_size\": [200],\n",
    "        \"coef0\": log_small,\n",
    "        \"degree\": log_med,\n",
    "        \"epsilon\": log_small,\n",
    "        \"gamma\": [\"scale\"],\n",
    "        \"kernel\": [\"rbf\", \"linear\", \"poly\", \"sigmoid\"],#, \"precomputed\"],\n",
    "        \"max_iter\": log_large_long,\n",
    "        \"shrinking\": bool_param,\n",
    "        \"tol\": log_small,\n",
    "        \"verbose\": [0],\n",
    "    }"
   ]
  },
  {
   "cell_type": "code",
   "execution_count": null,
   "id": "5775cc97",
   "metadata": {},
   "outputs": [],
   "source": [
    "class NuSVR_regression:\n",
    "    \"NuSVR\"\n",
    "    algorithm_implementation = NuSVR()\n",
    "    method_name = \"NuSVR\"\n",
    "    X_data = X\n",
    "    y_data = y\n",
    "    parameter_space = {\n",
    "        \"C\": lin_zero_one,\n",
    "        \"cache_size\": [200],\n",
    "        \"coef0\": log_small,\n",
    "        \"degree\": log_med,\n",
    "        \"gamma\": [\"scale\"],\n",
    "        \"kernel\": [\"rbf\", \"linear\", \"poly\", \"sigmoid\"],# \"precomputed\"],\n",
    "        \"max_iter\": [-1],\n",
    "        \"nu\": log_zero_one,\n",
    "        \"shrinking\": bool_param,\n",
    "        \"tol\": log_small,\n",
    "        \"verbose\": [0],\n",
    "    }"
   ]
  },
  {
   "cell_type": "code",
   "execution_count": null,
   "id": "4ed14294",
   "metadata": {},
   "outputs": [],
   "source": [
    "class MLPRegressor_regression:\n",
    "    \"MLPRegressor\"\n",
    "    algorithm_implementation = MLPRegressor()\n",
    "    method_name = \"MLPRegressor\"\n",
    "    X_data = X\n",
    "    y_data = y\n",
    "    parameter_space = {\n",
    "        \"activation\": [\"relu\", \"tanh\"],\n",
    "        \"alpha\": log_small,\n",
    "        #'batch_size': ['auto']+list(log_large_long),\n",
    "        \"batch_size\": [\"auto\"],\n",
    "        #'beta_1': 0.9,\n",
    "        #'beta_2': 0.999,\n",
    "        \"early_stopping\": [False],\n",
    "        #'epsilon': 1e-08,\n",
    "        \"hidden_layer_sizes\": log_large_long,\n",
    "        \"learning_rate\": [\"constant\", \"adaptive\"],\n",
    "        \"learning_rate_init\": log_small,\n",
    "        #'max_fun': 15000,\n",
    "        \"max_iter\": [300],\n",
    "        \"momentum\": log_small,\n",
    "        \"n_iter_no_change\": [10],\n",
    "        #'nesterovs_momentum': True,\n",
    "        #'power_t': 0.5,\n",
    "        \"random_state\": [None],\n",
    "        \"shuffle\": bool_param,\n",
    "        #'solver': ['adam', 'lbfgs', 'sgd'],\n",
    "        \"tol\": log_small,\n",
    "        \"validation_fraction\": [0.1],\n",
    "        \"verbose\": [0],\n",
    "        \"warm_start\": [False],\n",
    "    }"
   ]
  },
  {
   "cell_type": "code",
   "execution_count": null,
   "id": "02a31034",
   "metadata": {},
   "outputs": [],
   "source": [
    "class SVR_regression:\n",
    "    \"SVR\"\n",
    "    algorithm_implementation = SVR()\n",
    "    method_name = \"SVR\"\n",
    "    X_data = X\n",
    "    y_data = y\n",
    "    parameter_space = {\n",
    "        \"C\": lin_zero_one,\n",
    "        \"cache_size\": [200],\n",
    "        \"coef0\": log_small,\n",
    "        \"degree\": log_med,\n",
    "        \"epsilon\": lin_zero_one,\n",
    "        \"gamma\": [\"scale\"],\n",
    "        \"kernel\": [\"rbf\", \"linear\", \"poly\", \"sigmoid\"],#, \"precomputed\"],\n",
    "        \"max_iter\": [-1],\n",
    "        \"shrinking\": bool_param,\n",
    "        \"tol\": log_small,\n",
    "        \"verbose\": [0],\n",
    "    }"
   ]
  },
  {
   "cell_type": "code",
   "execution_count": null,
   "id": "f9583db9",
   "metadata": {},
   "outputs": [],
   "source": [
    "class AdaBoostRegressor_regression:\n",
    "    \"AdaBoostRegressor\"\n",
    "    algorithm_implementation = AdaBoostRegressor()\n",
    "    method_name = \"AdaBoostRegressor\"\n",
    "    X_data = X\n",
    "    y_data = y\n",
    "    parameter_space = {\n",
    "        \"base_estimator\": [None],\n",
    "        \"learning_rate\": log_small,\n",
    "        \"loss\": [\"linear\", \"square\", \"exponential\"],\n",
    "        \"n_estimators\": log_large_long,\n",
    "        \"random_state\": [None],\n",
    "    }"
   ]
  },
  {
   "cell_type": "code",
   "execution_count": null,
   "id": "21b0a570",
   "metadata": {},
   "outputs": [],
   "source": [
    "class QuantileRegressor_regression:\n",
    "    \"QuantileRegressor\"\n",
    "    quantiles = [0.5]\n",
    "\n",
    "    method_name = \"QuantileRegressor\"\n",
    "    X_data = X\n",
    "    y_data = y\n",
    "    algorithm_implementation = QuantReg(X_data, y_data)\n",
    "    parameter_space = {\"quantile\": [0.5], \"alpha\": log_small}"
   ]
  },
  {
   "cell_type": "code",
   "execution_count": null,
   "id": "2a528611",
   "metadata": {},
   "outputs": [],
   "source": [
    "class ExtraTreesRegressor_regression:\n",
    "    \"ExtraTreesRegressor\"\n",
    "    algorithm_implementation = ExtraTreesRegressor()\n",
    "    method_name = \"ExtraTreesRegressor\"\n",
    "    X_data = X\n",
    "    y_data = y\n",
    "    parameter_space = {\n",
    "        \"bootstrap\": bool_param,\n",
    "        \"ccp_alpha\": log_small,\n",
    "        \"criterion\": [\"squared_error\"],\n",
    "        \"max_depth\": [None] + list(log_large_long),\n",
    "        \"max_features\": [\"auto\"],\n",
    "        # 'max_leaf_nodes': log_med,\n",
    "        #'max_samples': log_med,\n",
    "        #'min_impurity_decrease': log_small,\n",
    "        #'min_samples_leaf': log_med,\n",
    "        #'min_samples_split': log_med,\n",
    "        #'min_weight_fraction_leaf': log_small,\n",
    "        \"n_estimators\": log_large_long,\n",
    "        \"n_jobs\": [None],\n",
    "        \"oob_score\": [False],\n",
    "        \"random_state\": [None],\n",
    "        \"verbose\": [0],\n",
    "        \"warm_start\": [False],\n",
    "    }"
   ]
  },
  {
   "cell_type": "code",
   "execution_count": null,
   "id": "a9cbe0e7",
   "metadata": {},
   "outputs": [],
   "source": [
    "class XGBRegressor_linear_regression:\n",
    "    \"XGBRegressor_linear_regression\"\n",
    "    algorithm_implementation = xgb.XGBRegressor()\n",
    "    method_name = \"XGBRegressor_regression\"\n",
    "    X_data = X\n",
    "    y_data = y\n",
    "\n",
    "    parameter_space = {\n",
    "        \"n_estimators\": log_large_long,\n",
    "        \"learning_rate\": log_small,\n",
    "        \"reg_lambda\": log_small,\n",
    "        \"reg_alpha\": log_small,\n",
    "        \"tree_method\": [\"gpu_hist\"],\n",
    "        \"max_depth\": log_large_long,\n",
    "        \"max_leaves\": log_large_long,\n",
    "        \"grow_policy\": [0, 1],\n",
    "        \"booster\": [\"gblinear\"],\n",
    "        \"n_jobs\": [4],\n",
    "    }"
   ]
  },
  {
   "cell_type": "code",
   "execution_count": null,
   "id": "9d71da4e",
   "metadata": {},
   "outputs": [],
   "source": [
    "class XGBRegressor_tree_regression:\n",
    "    \"XGBRegressor_tree_regression\"\n",
    "    algorithm_implementation = xgb.XGBRegressor()\n",
    "    method_name = \"XGBRegressor_regression\"\n",
    "    X_data = X\n",
    "    y_data = y\n",
    "\n",
    "    parameter_space = {\n",
    "        \"n_estimators\": log_large_long,\n",
    "        \"learning_rate\": log_small,\n",
    "        \"reg_lambda\": log_small,\n",
    "        \"reg_alpha\": log_small,\n",
    "        \"tree_method\": [\"gpu_hist\"],\n",
    "        \"max_depth\": log_large_long,\n",
    "        \"max_leaves\": log_large_long,\n",
    "        \"grow_policy\": ['depthwise', 'lossguide'],\n",
    "        \"booster\": [\"gbtree\"],\n",
    "        \"n_jobs\": [4],\n",
    "    }"
   ]
  },
  {
   "cell_type": "code",
   "execution_count": null,
   "id": "dff0377e",
   "metadata": {},
   "outputs": [],
   "source": [
    "def create_model(\n",
    "    layers=1,\n",
    "    kernel_reg=tf.keras.regularizers.l1_l2(l1=0, l2=0),\n",
    "    width=15,\n",
    "    learning_rate=0.01,\n",
    "    dropout_val=0.2,\n",
    "    input_dim_val=len(X.columns),\n",
    "):\n",
    "\n",
    "    # create model\n",
    "    model = Sequential()\n",
    "    for i in range(0, layers):\n",
    "        model.add(\n",
    "            Dense(\n",
    "                math.floor(width),\n",
    "                input_dim=len(X.columns),\n",
    "                kernel_initializer=\"normal\",\n",
    "                activation=\"relu\",\n",
    "                kernel_constraint=maxnorm(4),\n",
    "                kernel_regularizer=kernel_reg,\n",
    "            )\n",
    "        )\n",
    "\n",
    "    model.add(Dropout(dropout_val))\n",
    "    model.add(Dense(1, kernel_initializer=\"normal\", activation=\"relu\"))\n",
    "    # Compile model\n",
    "    optimizer = Adam(learning_rate=learning_rate)\n",
    "\n",
    "    metric = tfa.metrics.r_square.RSquare()\n",
    "\n",
    "    model.compile(\n",
    "        loss=\"mean_squared_error\",\n",
    "        optimizer=optimizer,\n",
    "        metrics=[metric, \"mean_squared_error\", rmse],\n",
    "    )\n",
    "\n",
    "    # print(kernel_reg.get_config())\n",
    "    return model"
   ]
  },
  {
   "cell_type": "code",
   "execution_count": null,
   "id": "7cab9815",
   "metadata": {},
   "outputs": [],
   "source": [
    "from keras import backend as K\n",
    "\n",
    "\n",
    "def coeff_determination(y_true, y_pred):\n",
    "    SS_res = K.sum(K.square(y_true - y_pred))\n",
    "    SS_tot = K.sum(K.square(y_true - K.mean(y_true)))\n",
    "    return 1 - SS_res / (SS_tot + K.epsilon())\n",
    "\n",
    "\n",
    "def coeff_determinationn(y_true, y_pred):\n",
    "    SS_res = np.sum(np.square(y_true - y_pred))\n",
    "    SS_tot = np.sum(K.square(y_true - np.mean(y_true)))\n",
    "    return 1 - SS_res / (SS_tot + K.epsilon())"
   ]
  },
  {
   "cell_type": "code",
   "execution_count": null,
   "id": "b730e0e0",
   "metadata": {},
   "outputs": [],
   "source": [
    "def floorer(t):\n",
    "    return math.floor(t)"
   ]
  },
  {
   "cell_type": "code",
   "execution_count": null,
   "id": "dbbff935",
   "metadata": {},
   "outputs": [],
   "source": [
    "def rmse(y_true, y_pred):\n",
    "    from keras import backend\n",
    "\n",
    "    return backend.sqrt(backend.mean(backend.square(y_pred - y_true), axis=-1))"
   ]
  },
  {
   "cell_type": "code",
   "execution_count": null,
   "id": "26bdff9d",
   "metadata": {},
   "outputs": [],
   "source": [
    "class kerasRegressor_regression:\n",
    "    \"kerasRegressor_regression\"\n",
    "    algorithm_implementation = KerasRegressor(\n",
    "        build_fn=create_model, verbose=0, learning_rate=0.0001, layers=1, width=1\n",
    "    )\n",
    "    method_name = \"kerasRegressor_regression\"\n",
    "    X_data = X\n",
    "    y_data = y\n",
    "\n",
    "    # vals = np.linspace(2, 750, 6)\n",
    "    vals = np.logspace(1, 2.0, 3)\n",
    "\n",
    "    floorer = lambda t: math.floor(t)\n",
    "    floored_width = np.array([floorer(xi) for xi in vals])\n",
    "    floored_width = np.insert(floored_width, 0, 1, axis=None)\n",
    "    floored_width\n",
    "\n",
    "    vals = np.logspace(1, 2.0, 3)\n",
    "\n",
    "    floorer = lambda t: math.floor(t)\n",
    "    floored_depth = np.array([floorer(xi) for xi in vals])\n",
    "    floored_depth = np.insert(floored_depth, 0, 1, axis=None)\n",
    "    floored_depth\n",
    "\n",
    "    parameter_space = {\n",
    "        \"layers\": floored_depth,\n",
    "        #'layers':[1],\n",
    "        #'width':[1],\n",
    "        \"epochs\": [300],  # log_large_long,\n",
    "        \"batch_size\": [int(len(X) / 2)],\n",
    "        # kernel_reg=reg_reg_list_comb,\n",
    "        \"width\": floored_width,\n",
    "        \"learning_rate\": np.logspace(-4, -6, 3),\n",
    "        # dropout_val = np.logspace(-1, -3, 2)\n",
    "    }"
   ]
  },
  {
   "cell_type": "code",
   "execution_count": null,
   "id": "23c3747c",
   "metadata": {},
   "outputs": [],
   "source": [
    "# break"
   ]
  },
  {
   "cell_type": "code",
   "execution_count": null,
   "id": "d8616ca0",
   "metadata": {},
   "outputs": [],
   "source": [
    "model_class_list = [\n",
    "    multiple_regression,\n",
    "    ridge_regression,\n",
    "    lasso_regression,\n",
    "    linearSVR_regression,\n",
    "    baggingregressor_regression,\n",
    "    kneighborsregressor_regression,\n",
    "    randomforestregressor_regression,\n",
    "    gradientboostingregressor_regression,\n",
    "    decisiontreeregressor_regression,\n",
    "    SVR_regression,\n",
    "    NuSVR_regression,\n",
    "    MLPRegressor_regression,\n",
    "    SVR_regression,\n",
    "    AdaBoostRegressor_regression,\n",
    "    QuantileRegressor_regression,\n",
    "    ExtraTreesRegressor_regression,\n",
    "    kerasRegressor_regression,\n",
    "    XGBRegressor_linear_regression,\n",
    "    XGBRegressor_tree_regression,\n",
    "    kerasRegressor_regression,\n",
    "]"
   ]
  },
  {
   "cell_type": "markdown",
   "id": "bb588b1a",
   "metadata": {},
   "source": [
    "# check grid sizes and validity"
   ]
  },
  {
   "cell_type": "code",
   "execution_count": null,
   "id": "cdb4f16e",
   "metadata": {},
   "outputs": [],
   "source": [
    "for elem in model_class_list:\n",
    "    pg = ParameterGrid(elem.parameter_space)\n",
    "    print(elem.method_name)\n",
    "    print(len(pg))"
   ]
  },
  {
   "cell_type": "code",
   "execution_count": null,
   "id": "77fb1718",
   "metadata": {},
   "outputs": [],
   "source": [
    "#break"
   ]
  },
  {
   "cell_type": "code",
   "execution_count": null,
   "id": "353f80ff",
   "metadata": {},
   "outputs": [],
   "source": [
    "elem"
   ]
  },
  {
   "cell_type": "code",
   "execution_count": null,
   "id": "ded844b9",
   "metadata": {},
   "outputs": [],
   "source": [
    "i = 1"
   ]
  },
  {
   "cell_type": "code",
   "execution_count": null,
   "id": "96d845ec",
   "metadata": {
    "scrolled": true
   },
   "outputs": [],
   "source": [
    "%%time\n",
    "# class_name = model_class_list[i]\n",
    "\n",
    "class_name = gradientboostingregressor_regression\n",
    "\n",
    "scores = grid_search_crossvalidate(\n",
    "    class_name.algorithm_implementation,\n",
    "    class_name.parameter_space,\n",
    "    class_name.method_name,\n",
    "    class_name.X_data,\n",
    "    class_name.y_data,\n",
    ")\n",
    "i = i + 1"
   ]
  },
  {
   "cell_type": "code",
   "execution_count": null,
   "id": "25fc0f83",
   "metadata": {
    "scrolled": true
   },
   "outputs": [],
   "source": [
    "scores"
   ]
  },
  {
   "cell_type": "code",
   "execution_count": null,
   "id": "a08b44bf",
   "metadata": {},
   "outputs": [],
   "source": [
    "scores_tuple_list[0]"
   ]
  },
  {
   "cell_type": "code",
   "execution_count": null,
   "id": "bb3ee0ef",
   "metadata": {},
   "outputs": [],
   "source": [
    "scores_tuple_list[0][2].best_params_"
   ]
  },
  {
   "cell_type": "code",
   "execution_count": null,
   "id": "42743426",
   "metadata": {},
   "outputs": [],
   "source": [
    "XGBRegressor_tree_regression.algorithm_implementation(parameters = scores_tuple_list[1][2].best_params_)"
   ]
  },
  {
   "cell_type": "code",
   "execution_count": null,
   "id": "cc1e0635",
   "metadata": {},
   "outputs": [],
   "source": [
    "best_model = xgb.XGBRegressor(**scores_tuple_list[1][2].best_params_)\n",
    "\n",
    "best_model.fit(X, y)"
   ]
  },
  {
   "cell_type": "code",
   "execution_count": null,
   "id": "4e9438a9",
   "metadata": {},
   "outputs": [],
   "source": [
    "scores = cross_val_score(best_model, X, y, scoring='r2', cv=cv) "
   ]
  },
  {
   "cell_type": "code",
   "execution_count": null,
   "id": "76f138f4",
   "metadata": {},
   "outputs": [],
   "source": [
    "mean(scores)"
   ]
  },
  {
   "cell_type": "code",
   "execution_count": null,
   "id": "1d79d067",
   "metadata": {},
   "outputs": [],
   "source": [
    "best_model = GradientBoostingRegressor(**scores_tuple_list[0][2].best_params_)\n",
    "\n",
    "best_model.fit(sm.add_constant(X), y)"
   ]
  },
  {
   "cell_type": "code",
   "execution_count": null,
   "id": "7566475a",
   "metadata": {},
   "outputs": [],
   "source": [
    "scores = cross_val_score(best_model, X, y, scoring='r2', cv=cv) "
   ]
  },
  {
   "cell_type": "code",
   "execution_count": null,
   "id": "3e8e3677",
   "metadata": {},
   "outputs": [],
   "source": [
    "scores"
   ]
  },
  {
   "cell_type": "code",
   "execution_count": null,
   "id": "eee2c297",
   "metadata": {},
   "outputs": [],
   "source": [
    "X[0:1]"
   ]
  },
  {
   "cell_type": "code",
   "execution_count": null,
   "id": "6cf83d3a",
   "metadata": {},
   "outputs": [],
   "source": [
    "best_model.predict(sm.add_constant(X)[0:1])"
   ]
  },
  {
   "cell_type": "code",
   "execution_count": null,
   "id": "1b0630f2",
   "metadata": {},
   "outputs": [],
   "source": [
    "with open(\"GradientBoostingRegressor_webm.pickle\", \"wb\") as handle:\n",
    "    pickle.dump(best_model, handle, protocol=pickle.HIGHEST_PROTOCOL)"
   ]
  },
  {
   "cell_type": "code",
   "execution_count": null,
   "id": "06b5165d",
   "metadata": {},
   "outputs": [],
   "source": [
    "#break"
   ]
  },
  {
   "cell_type": "code",
   "execution_count": null,
   "id": "66944158",
   "metadata": {},
   "outputs": [],
   "source": [
    "model_error_list = []"
   ]
  },
  {
   "cell_type": "code",
   "execution_count": null,
   "id": "5cb73fe9",
   "metadata": {},
   "outputs": [],
   "source": [
    "scores_tuple_list = []"
   ]
  },
  {
   "cell_type": "code",
   "execution_count": null,
   "id": "b3cb8a77",
   "metadata": {},
   "outputs": [],
   "source": [
    "multiprocess = False"
   ]
  },
  {
   "cell_type": "code",
   "execution_count": null,
   "id": "cfaeee9a",
   "metadata": {
    "scrolled": true
   },
   "outputs": [],
   "source": [
    "%%time\n",
    "if multiprocess == False:\n",
    "    for model_class in model_class_list:\n",
    "\n",
    "        try:\n",
    "            class_name = model_class\n",
    "\n",
    "            grid_search_crossvalidate(\n",
    "                class_name.algorithm_implementation,\n",
    "                class_name.parameter_space,\n",
    "                class_name.method_name,\n",
    "                class_name.X_data,\n",
    "                class_name.y_data,\n",
    "            )\n",
    "        except Exception as e:\n",
    "            print(\"error on \", method_name)\n",
    "            model_error_list.append((model_class.method_name, e))"
   ]
  },
  {
   "cell_type": "code",
   "execution_count": null,
   "id": "57413900",
   "metadata": {},
   "outputs": [],
   "source": [
    "arg_list = []\n",
    "for model_class in model_class_list:\n",
    "\n",
    "    class_name = model_class\n",
    "\n",
    "    arg_list.append(\n",
    "        (\n",
    "            class_name.algorithm_implementation,\n",
    "            class_name.parameter_space,\n",
    "            class_name.method_name,\n",
    "            class_name.X_data,\n",
    "            class_name.y_data,\n",
    "        )\n",
    "    )"
   ]
  },
  {
   "cell_type": "code",
   "execution_count": null,
   "id": "ee1bd3a2",
   "metadata": {},
   "outputs": [],
   "source": [
    "%%time\n",
    "if multiprocess == True:\n",
    "\n",
    "    def multi_run_wrapper(args):\n",
    "        return grid_search_crossvalidate(*args)\n",
    "\n",
    "    if __name__ == \"__main__\":\n",
    "        from multiprocessing import Pool\n",
    "\n",
    "        pool = Pool(4)\n",
    "        results = pool.map(multi_run_wrapper, arg_list)\n",
    "        # print(results)"
   ]
  },
  {
   "cell_type": "code",
   "execution_count": null,
   "id": "345ecf79",
   "metadata": {},
   "outputs": [],
   "source": [
    "with open(plot_path + \"regressor_grid_scores.pickle\", \"wb\") as handle:\n",
    "    pickle.dump(scores_tuple_list, handle, protocol=pickle.HIGHEST_PROTOCOL)"
   ]
  },
  {
   "cell_type": "code",
   "execution_count": null,
   "id": "886bac62",
   "metadata": {},
   "outputs": [],
   "source": [
    "with open(plot_path + \"regressor_grid_scores.pickle\", \"rb\") as handle:\n",
    "    regressor_grid_scores = pickle.load(handle)"
   ]
  },
  {
   "cell_type": "code",
   "execution_count": null,
   "id": "0850630e",
   "metadata": {},
   "outputs": [],
   "source": []
  },
  {
   "cell_type": "code",
   "execution_count": null,
   "id": "b646cf29",
   "metadata": {},
   "outputs": [],
   "source": [
    "model_error_list"
   ]
  },
  {
   "cell_type": "code",
   "execution_count": null,
   "id": "1a37a89c",
   "metadata": {},
   "outputs": [],
   "source": []
  },
  {
   "cell_type": "code",
   "execution_count": null,
   "id": "412e85af",
   "metadata": {},
   "outputs": [],
   "source": [
    "scores_tuple_list"
   ]
  },
  {
   "cell_type": "code",
   "execution_count": null,
   "id": "e51d86d4",
   "metadata": {},
   "outputs": [],
   "source": [
    "len(scores_tuple_list)"
   ]
  },
  {
   "cell_type": "code",
   "execution_count": null,
   "id": "6ffd4c8f",
   "metadata": {},
   "outputs": [],
   "source": [
    "len(model_class_list)"
   ]
  },
  {
   "cell_type": "code",
   "execution_count": null,
   "id": "527bd64b",
   "metadata": {},
   "outputs": [],
   "source": [
    "for algo in scores_tuple_list:\n",
    "    print(algo[0], mean(algo[1][\"fit_time\"]))"
   ]
  },
  {
   "cell_type": "code",
   "execution_count": null,
   "id": "d1ecea2c",
   "metadata": {},
   "outputs": [],
   "source": [
    "for algo in scores_tuple_list:\n",
    "    print(algo[0], mean(algo[1][\"test_r2\"]))"
   ]
  },
  {
   "cell_type": "code",
   "execution_count": null,
   "id": "ec080644",
   "metadata": {},
   "outputs": [],
   "source": [
    "for algo in scores_tuple_list:\n",
    "    print(algo[0], max(algo[1][\"test_r2\"]))"
   ]
  },
  {
   "cell_type": "code",
   "execution_count": null,
   "id": "46788f69",
   "metadata": {},
   "outputs": [],
   "source": [
    "algo"
   ]
  },
  {
   "cell_type": "code",
   "execution_count": null,
   "id": "7bb7fc03",
   "metadata": {},
   "outputs": [],
   "source": []
  },
  {
   "cell_type": "code",
   "execution_count": null,
   "id": "51e538ac",
   "metadata": {},
   "outputs": [],
   "source": []
  }
 ],
 "metadata": {
  "kernelspec": {
   "name": "pycharm-c7518b73",
   "language": "python",
   "display_name": "PyCharm (CMD_Management_lite_2022)"
  },
  "language_info": {
   "codemirror_mode": {
    "name": "ipython",
    "version": 3
   },
   "file_extension": ".py",
   "mimetype": "text/x-python",
   "name": "python",
   "nbconvert_exporter": "python",
   "pygments_lexer": "ipython3",
   "version": "3.7.9"
  },
  "varInspector": {
   "cols": {
    "lenName": 16,
    "lenType": 16,
    "lenVar": 40
   },
   "kernels_config": {
    "python": {
     "delete_cmd_postfix": "",
     "delete_cmd_prefix": "del ",
     "library": "var_list.py",
     "varRefreshCmd": "print(var_dic_list())"
    },
    "r": {
     "delete_cmd_postfix": ") ",
     "delete_cmd_prefix": "rm(",
     "library": "var_list.r",
     "varRefreshCmd": "cat(var_dic_list()) "
    }
   },
   "types_to_exclude": [
    "module",
    "function",
    "builtin_function_or_method",
    "instance",
    "_Feature"
   ],
   "window_display": false
  }
 },
 "nbformat": 4,
 "nbformat_minor": 5
}